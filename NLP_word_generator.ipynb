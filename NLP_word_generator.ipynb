{
 "cells": [
  {
   "cell_type": "code",
   "execution_count": 1,
   "metadata": {},
   "outputs": [
    {
     "name": "stdout",
     "output_type": "stream",
     "text": [
      "Downloading shakespeare corpus from http://www.gutenberg.org/files/100/100-0.txt\n",
      "Saving shakespeare sonnets file.\n",
      "Saving shakespeare plays file.\n"
     ]
    },
    {
     "data": {
      "text/plain": [
       "'data\\\\shakespeare_plays.txt'"
      ]
     },
     "execution_count": 1,
     "metadata": {},
     "output_type": "execute_result"
    }
   ],
   "source": [
    "import corpora\n",
    "corpora.shakespeare_plays"
   ]
  },
  {
   "cell_type": "code",
   "execution_count": 3,
   "metadata": {},
   "outputs": [
    {
     "name": "stderr",
     "output_type": "stream",
     "text": [
      "[nltk_data] Downloading package punkt to\n",
      "[nltk_data]     C:\\Users\\Administrator\\AppData\\Roaming\\nltk_data...\n",
      "[nltk_data]   Package punkt is already up-to-date!\n"
     ]
    },
    {
     "data": {
      "text/plain": [
       "True"
      ]
     },
     "execution_count": 3,
     "metadata": {},
     "output_type": "execute_result"
    }
   ],
   "source": [
    "import nltk\n",
    "nltk.download('punkt')"
   ]
  },
  {
   "cell_type": "markdown",
   "metadata": {},
   "source": [
    "# Preprocessing"
   ]
  },
  {
   "cell_type": "code",
   "execution_count": 4,
   "metadata": {},
   "outputs": [],
   "source": [
    "import preprocessing\n",
    "corpus = corpora.shakespeare_sonnets\n",
    "words, word2idx = preprocessing.get_words(corpus)"
   ]
  },
  {
   "cell_type": "markdown",
   "metadata": {},
   "source": [
    "# Model specification\n"
   ]
  },
  {
   "cell_type": "code",
   "execution_count": 5,
   "metadata": {},
   "outputs": [
    {
     "name": "stderr",
     "output_type": "stream",
     "text": [
      "Using Theano backend.\n",
      "Using cuDNN version 7005 on context None\n",
      "Mapped name None to device cuda: GeForce GTX 960M (0000:01:00.0)\n"
     ]
    }
   ],
   "source": [
    "import os\n",
    "os.environ['KERAS_BACKEND'] = 'theano'\n",
    "from keras.models import Sequential\n",
    "\n",
    "from keras.layers import Dense, Activation, LSTM, Reshape, TimeDistributed, Embedding\n",
    "from keras.callbacks import Callback\n",
    "\n",
    "\n",
    "def get_model(num_timesteps, num_words, embedding_dim, hidden_dim, batch_size):\n",
    "    model = Sequential()\n",
    "    model.add(Embedding(input_dim=num_words, \n",
    "                        input_length=num_timesteps,\n",
    "                        batch_input_shape=[batch_size, num_timesteps],\n",
    "                        output_dim=embedding_dim))\n",
    "    model.add(LSTM(units=hidden_dim, \n",
    "                   batch_input_shape=[batch_size, num_timesteps, embedding_dim], \n",
    "                   return_sequences=True, \n",
    "                   stateful=True))\n",
    "    model.add(TimeDistributed(Dense(num_words), input_shape=(num_timesteps, hidden_dim)))\n",
    "    model.add(Activation(\"softmax\"))\n",
    "    model.compile(optimizer='rmsprop',\n",
    "                  loss='categorical_crossentropy',\n",
    "                  metrics=['accuracy'])\n",
    "    return model\n",
    "\n",
    "\n",
    "class ResetStates(Callback):\n",
    "\n",
    "    def on_epoch_begin(self, epoch, logs={}):\n",
    "        self.model.reset_states()"
   ]
  },
  {
   "cell_type": "markdown",
   "metadata": {},
   "source": [
    "# Training"
   ]
  },
  {
   "cell_type": "code",
   "execution_count": 11,
   "metadata": {
    "scrolled": true
   },
   "outputs": [],
   "source": [
    "def train_model(num_timesteps, hidden_dim, embedding_dim, batch_size, num_epochs, corpus, word2idx, model=None):\n",
    "    num_words = len(word2idx)\n",
    "    model = model if model else get_model(num_timesteps, num_words, embedding_dim, hidden_dim, batch_size)\n",
    "    examples = preprocessing.vectorized_example_stream(corpus, num_timesteps, batch_size, word2idx, word_level=True)\n",
    "    total_num_words = preprocessing.count_words(corpus)\n",
    "    total_num_words = total_num_words - total_num_words % (num_timesteps * batch_size)\n",
    "    samples_per_epoch = total_num_words//num_timesteps\n",
    "    model.fit_generator(examples, samples_per_epoch, num_epochs, callbacks=[ResetStates()])\n",
    "    return model"
   ]
  },
  {
   "cell_type": "code",
   "execution_count": 12,
   "metadata": {},
   "outputs": [
    {
     "name": "stderr",
     "output_type": "stream",
     "text": [
      "D:\\software\\Anaconda3\\envs\\py36\\lib\\site-packages\\theano\\scan_module\\scan_perform_ext.py:76: UserWarning: The file scan_perform.c is not available. This donot happen normally. You are probably in a strangesetup. This mean Theano can not use the cython code for scan. If youwant to remove this warning, use the Theano flag'cxx=' (set to an empty string) to disable all ccode generation.\n",
      "  \"The file scan_perform.c is not available. This do\"\n",
      "D:\\software\\Anaconda3\\envs\\py36\\lib\\site-packages\\theano\\scan_module\\scan_perform_ext.py:76: UserWarning: The file scan_perform.c is not available. This donot happen normally. You are probably in a strangesetup. This mean Theano can not use the cython code for scan. If youwant to remove this warning, use the Theano flag'cxx=' (set to an empty string) to disable all ccode generation.\n",
      "  \"The file scan_perform.c is not available. This do\"\n",
      "D:\\software\\Anaconda3\\envs\\py36\\lib\\site-packages\\theano\\scan_module\\scan_perform_ext.py:76: UserWarning: The file scan_perform.c is not available. This donot happen normally. You are probably in a strangesetup. This mean Theano can not use the cython code for scan. If youwant to remove this warning, use the Theano flag'cxx=' (set to an empty string) to disable all ccode generation.\n",
      "  \"The file scan_perform.c is not available. This do\"\n",
      "D:\\software\\Anaconda3\\envs\\py36\\lib\\site-packages\\theano\\scan_module\\scan_perform_ext.py:76: UserWarning: The file scan_perform.c is not available. This donot happen normally. You are probably in a strangesetup. This mean Theano can not use the cython code for scan. If youwant to remove this warning, use the Theano flag'cxx=' (set to an empty string) to disable all ccode generation.\n",
      "  \"The file scan_perform.c is not available. This do\"\n"
     ]
    },
    {
     "name": "stdout",
     "output_type": "stream",
     "text": [
      "Epoch 1/1\n",
      "total num symbols 26643\n",
      "864/864 [==============================] - 183s 212ms/step - loss: 0.8887 - acc: 0.8666\n"
     ]
    }
   ],
   "source": [
    "num_timesteps = 30\n",
    "hidden_dim = 128\n",
    "embedding_dim = 50\n",
    "batch_size = 32\n",
    "num_epochs = 1\n",
    "trained_model = train_model(num_timesteps, hidden_dim, embedding_dim, batch_size, \n",
    "                            num_epochs, corpus,word2idx)"
   ]
  },
  {
   "cell_type": "code",
   "execution_count": 13,
   "metadata": {},
   "outputs": [],
   "source": [
    "model_name = 'wordlevel.%s.h5' % os.path.basename(corpus)\n",
    "trained_model.save_weights(model_name, overwrite=True)"
   ]
  },
  {
   "cell_type": "markdown",
   "metadata": {},
   "source": [
    "# Inference"
   ]
  },
  {
   "cell_type": "code",
   "execution_count": 16,
   "metadata": {},
   "outputs": [],
   "source": [
    "import numpy as np\n",
    "\n",
    "def generate_text(model, seed_words, temperature, word2ix, idx2word, N):\n",
    "    model.reset_states()\n",
    "    # first we initialize the state of the LSTM using the seed_str\n",
    "    for seed_word in seed_words:\n",
    "        seed_word_idx = word2idx[seed_word]\n",
    "        x = np.zeros(shape=model.input_shape)\n",
    "        x[0, 0] = seed_word_idx\n",
    "        probs = model.predict(x, verbose=0)\n",
    "        \n",
    "    # now we start generating text\n",
    "    probs = probs[0,0,:]\n",
    "    next_word_idx = sample(probs, temperature)\n",
    "    generated_text_idx = [next_word_idx]\n",
    "    generated_text = [idx2word[next_word_idx]]\n",
    "    x = np.zeros(shape=model.input_shape)\n",
    "    for i in range(N - 1):\n",
    "        last_word_idx = generated_text_idx[-1]\n",
    "        x = np.zeros(shape=model.input_shape)\n",
    "        x[0, 0] = last_word_idx\n",
    "        probs = model.predict(x, verbose=0)\n",
    "        probs = probs[0,0,:]\n",
    "        next_word_idx = sample(probs, temperature)\n",
    "        generated_text_idx.append(next_word_idx)\n",
    "        generated_text.append(idx2word[next_word_idx])        \n",
    "    return generated_text\n",
    "    \n",
    "def sample(preds, temperature=1.0):\n",
    "    # helper function to sample an index from a probability array\n",
    "    preds = np.asarray(preds).astype('float64')\n",
    "    preds = np.log(preds) / temperature\n",
    "    exp_preds = np.exp(preds)\n",
    "    preds = exp_preds / np.sum(exp_preds)\n",
    "    probas = np.random.multinomial(1, preds, 1)\n",
    "    return np.argmax(probas)"
   ]
  },
  {
   "cell_type": "code",
   "execution_count": 21,
   "metadata": {
    "scrolled": true
   },
   "outputs": [
    {
     "name": "stderr",
     "output_type": "stream",
     "text": [
      "D:\\software\\Anaconda3\\envs\\py36\\lib\\site-packages\\theano\\scan_module\\scan_perform_ext.py:76: UserWarning: The file scan_perform.c is not available. This donot happen normally. You are probably in a strangesetup. This mean Theano can not use the cython code for scan. If youwant to remove this warning, use the Theano flag'cxx=' (set to an empty string) to disable all ccode generation.\n",
      "  \"The file scan_perform.c is not available. This do\"\n",
      "D:\\software\\Anaconda3\\envs\\py36\\lib\\site-packages\\theano\\scan_module\\scan_perform_ext.py:76: UserWarning: The file scan_perform.c is not available. This donot happen normally. You are probably in a strangesetup. This mean Theano can not use the cython code for scan. If youwant to remove this warning, use the Theano flag'cxx=' (set to an empty string) to disable all ccode generation.\n",
      "  \"The file scan_perform.c is not available. This do\"\n"
     ]
    }
   ],
   "source": [
    "from nltk import word_tokenize\n",
    "seed_str = '''To be or not to be'''\n",
    "seed_str = [w.lower() for w in word_tokenize(seed_str)]\n",
    "trained_model_test = get_model(1, len(word2idx), embedding_dim, hidden_dim, 1)\n",
    "trained_model_test.load_weights(model_name)\n",
    "generated_text = generate_text(trained_model_test, seed_str, 1.1, word2idx, words, 3000)"
   ]
  },
  {
   "cell_type": "code",
   "execution_count": 22,
   "metadata": {},
   "outputs": [
    {
     "name": "stdout",
     "output_type": "stream",
     "text": [
      "to be or not to be thriftless cost lets gilding images darling hooks feil 152 admit ward return society remain giving finding time-bettering bier foe imitated hadst user towards gaudy afloat dross ever-fixed carcanet difference er-green bar thievish swerving advised beautiful 129 earth nightly graves lean thanks tongues poverty gust exchanged impiety meadows going thrall weeks feasts quickly subdued reasons famoused silver ward gravity 97 tyrants shamefully graciously object mock dearer situation drained remembrance dressed famine potions slay invoked wights 86 chest 150 first something unseeing bankrupt 66 transferred kinds horses 13 passion tyrants scarlet youngly region invited bending could crystal last home robbed 23 advocate tombed deeds gazers finds bearer mourners siren threw scaped riper truths condemned entombed world works son 100 equal ink side measure makeless gaol assured honest 89 plants distillation endured correspondence begin edge judgment beggared misprision kept render 132 saying affable leave mars fleeting ragged habit ry scarcely manner keen corrupting 74 lying wind slept privilage forgoing depend lacking records twice erst sharpened proves whoe zealous sinful loathsome arise 129 shorn think dearer moment cut hateth paid woman pyramids wing composed 16 morrow owners gentlest knights tired subjects incertainties lame strife until seemly anew 26 shamed 135 sparkling partake fleet woman bitter robe shady seat assured scorned book point frailties sourest long-lived windy jaws count perfect love-suit tyrants mow mouths vanishing earth dian region worser vilest seconds dwellers ragged intend sorry 141 asked foison forwards vial judgement refuse ambush pricked bending jewels travel rebel sunken furrows outcast felt wherewith 141 counting makeless basest master belong angel clear front honey idly hot water fears esteem answered hasten perfumed translate wanton soul crooked succession honour lived rocks miscalled whatsoever furrows borrowed shook ensconce theft afford 152 dearer pity-wanting saved lacked steel locked hair storm-beaten flies 103 soul stretched tyrant falsehood mouths dressed orphans creep proof fine peep bond verdict deserve broils 93 parts advocate hell surety-like neck nought 27 master idly neglect fell user teachest beseem covetous ry charter cunning habitation dignifies despair supposed father chance 132 praised lion celestial page touch extant long-lived away admired preposterously counted steepy languished cross woman fulness clear sober sober years clock prevent farewell rosy rare odour jealousy clock pain clear sweets thievish zealous rider disgraced died entitled steeled restored watch doom shown middle tillage key already sin balmy jealousy long-lived rearward unseeing forbidden affable methinks large quiet crooked clock perspective successive all-oblivious shade tenth respect carcanet tie willing continual 44 tyrants poet bind knights unthrifty 99 cool strange eve poisoned yea shook drooping disdain drained chaste votary presence inhabit dreading weight slight supposing among goodly clear creep kept abuse painting speechless pity-wanting foregone grievances 153 poets down-rased long-lived mourners 59 fist proposed warning strong certain kind-hearted thriftless told 114 74 fadeth forged scythe junes necessary known gust maiden worship rise thrivers desperate down tan ill-wresting riper policy dig figure blindness brightness bitterness services tyrants couldst curse sins eloquence bond cars bequest gain unperfect defeated correction prevent enjoyer simple forgive stopped neglected dully spoil boat passion gaudy instant accents 57 fearing were hell sensual bier 57 spirit ornaments gathered wear vanishing leads 148 fresher autumn perhaps dressed lords glorious flesh pain proposed 80 tillage neglect whence accidents watery stern misplaced mountain windy throned poet 52 king antique exceeds niggarding sees needy quenched respose ages vows found perfumes autumn believed define committed object prison 83 beside 123 subdued gravity limbs reckoning conceit weak divide wanton knit ghost esteeming carve cloak basest 154 hang children firm over-goes aid lord warmed strumpeted drooping correction accidents pitied wear helen vows keen conceit new-fired flown confessed becomes indirectly travels sheds dearly kingdom father injury nearly meadows king stirred tyrants staineth songs qualify stretched together swerving sake keen promise toward angel instinct accidents sportive quiet 112 woman hounds crave roses doom abysm achieve task couldst injurious sullen infection thank lays costs convertest foison saved wardrobe discloses advantage transferred plague merchandized 117 palate siren late just wounded please pursuing devil 63 stick zealous beck tears quill acquaintance measured gold father get outcast dressings nurse 61 detain variation elder brav damasked sets whit gainst provide ghost rud abundant large siren stormy fools dian filching speaking fault region speak broils trespass dearer miser speechless may derive welcome wailing help array onwards richer death-bed 15 admit minded dedicated suborned bed-vow clean pain advance ages reckoned repent perfect impair bones physicians salve violet dumb matter prevent lived excel prey jewel answered harder famine fulfil master near furrows enlarged cupid semblance unmoved livery fulfil silver vex forlorn addeth poisoned rebel blessed befits dying envy cup flown ertake dispatch 132 salutation basest learning define concord riot guilty past behaviour diseased sweet nurseth built idol razed bears unkind jewel penance bed bastard house endeared 118 teachest greet 97 faint user burned dressings dressing loves princes history teeming bier 12 worse themselves loves rebel wand erlook 60 gazers whence plagues frailties food long-lived supposing race builded 152 story apparel proudest consum steals 86 visage water tear celestial heals soul gav authority commit cast needing feasts idol promise mourning outright throw flattered blind dancing liker lovely 144 self-killed user vilest unfolding sense defy unlettered crowning prophetic expire weeds rocks centre get stirred increasing always conceit unlearned alters reviewest defaced argument pattern robbery pry sessions 68 believed proudly servant incertainties falsehood griefs loud amen verse building remedy halt broken 21 nativity known untutored thunder ocean lamb brass interchange 127 reckon spurring churl sure tattered hidden 103 lusty absent 146 bar sorry store quest monument youngly supposed often plot 139 slumbers stormy merits steep-up 119 get foiled assured clock fashion self-same 3 nights basest fee provoke civil dream little number picture offices cut showing bootless nights self presume bird dates idly pity-wanting hounds hard heavily frailties leese glorious 60 wing children shoot gravity wherever desert flourish insults ear bounteous died limbs steeled paying lasting contents soon bold compeers likeness wear critic granting conceit burthen broad murd bier partly reviewest plagues kind cease unwooed object counterfeit admired 29 lips passed outcast mutual onward tillage boot conceit perfumed dancing yield divine overplus hindmost farewell stop mud extreme suit courses accidents abused gulls book philomel luck forfeit refined granting never-resting every leaves truth familiar inheritors chance very earthly shame 111 reign parts clear verdict impregnable filching alchemy boot bier assistance bareness effect beast gild consum returned clean long-lived shames princes disgraced shapes passion grew impregnable betwixt comes watchman wound thank vulgar clear shade store sorry newer name having seeking show transferred luck true-telling loved steep marigold maid orient self-doing fled up perspective league bed pitied slumbers angel over-partial assured witness saucy brains guilt down-rased 85 region cover passed right greatest very 61 little ugly jacks thrice savage siren newer five shifting dye haste power twofold dates 121 blessed 82 lords amazeth strongly blazon already pleasing coloured mind showers homage invent wail bloody lamb shun 72 pretty outlive alter conquest jollity scorn censures purity shamefully 84 anticipate trouble re-survey bootless soil breeds antiquity dwellers 63 bud thrusts everywhere reproving sharpened willing limit dream ornaments steep-up patience sounds rehearse debt get rightly elsewhere busy interchange wilful-slow dreams eyes enemies gild guilty dateless mouthed soon 146 blessed pitied 81 chief blamed limping waiting pitiful three dreading evermore 122 suffer unthrift fill beggared west evermore brain feeling 154 looking erlook receivest legions praised tyrants enjoyer aloft vassalage due conquest sauces loving cupid dig gaudy doubting wiry accidents gazing tis hied journey sail foolish wrackful witness bad nine going chance grave basest import drugs advance except voice darkly decayed broken ears onset bier constant poesy guard wretched fled torture dress oppressed march climbed naked sinks shames wand fresher stopped arrest goddess poverty only rolling gainer wounded authorizing tyrants pity-wanting losses blamed impeached stole been father blazon shamed numbers monument physician tincture shade conscience gardens add invoked saying situation impediments n stole shifting diseased minds become imprisoned pain compass hang adieu bier charge fee gaudy injuries chest unthrifts conquest runs famine reap bay 147 115 119 perfection grave pricked score vengeful mother sorry colour daily proudly scandal graced slight teeming labouring keen correct watch 121 finger ercharged prison untold modern pity-wanting newer benefit moon first-born bier fire get worthless mock 151 82 situation beds 80 ransom spread widowed boundless fine life interim toil 53 wires dreams worst politic conquest desired knew mountain glowing undivided tombed fuel break built self-same earth phoenix soul wisdom party boughs trophies 92 seek bloody truly saved miser clear oblivion seat contracted lie raven therein violet perceiv savage mountain all-eating windy spurring profane greeing pays forced graves longing length pattern temptation sword determination selling benefit 127 reproach quill offices showers foolish bud 81 tyrants onward maintain slight nativity beshrew except mournful wooing humour stones 129 orient shore thanks convertest embassy prophecies cup pomp pierced gild horses excel confounding greatest violet works rebuked enjoyer visage counterpart bier indeed admiring bail able pain mars beseechers aspect 59 70 bending gravity dressing keen sober earth reproving alters review rudely quality feathered cast jewel 56 beds cure habitation thinks contrary resemble abundance carcanet 101 house revenge denied wisdom two chopt brav trim outcast tempting reproving 31 viewest brings pity-wanting wind praised function eclipses honest separable brave first-born indeed list lacking 42 wouldst convertest 77 scope estimate discloses marvel tanned beated ghost house present accuse idle wet thence 111 after-loss brave whoever different civil west savage powerful issue faster cherubins stamp tincture burning tattered 131 woes physicians ragged dwells thinly west region right silent ersways a-doting review whit compeers meadows frailties hundred kings translated askance purest ill-used mars increasing 74 lusty acceptable theirs tables compound leaves stays forfeit monarch homage remote smother testy conceit papers inheritors guilt account 92 willing world-without-end dry reeks grave homage assistance unions drowns interest willing owner untold share 138 send sacred darling 15 blunting remembrance cheered satire war swart-complexioned stout sure wind wardrobe arising spite watery sake politic excel famine essays perfection away deepest sway healthful virtue foison appetite unto 92 unions whilst nurse cheap saint 124 object losses 125 worst summers tanned faculty selling loving tender refined wretched 61 jealousy fickle hatred together garments 42 subjects leases tresses seemly 16 witness gravity bier forwards lascivious warmed guest bearing makeless self-willed sit unbred 102 means lion refined garments won easy composed instant unknown deserve nobler saw pleasant enlarged fame coming dearer allege feeding descriptions slander withal ruth basest usest rarities guard wear veil grant outlive therefore teachest youthful husbandry moon unless purposed written seat withering damasked tempting shifting offences boldness robe assailed bears granting get forty arising beggar seasons receive drooping away ne stop felt right tendered enjoys chest preserve lust 69 s nobler walk within ranks turned son honour the t task poisoned dulness statues hateth confounded separation word partly situation anchored imaginary sessions bent perfumes king wood watchman swallowed late object filled paws contain cures news durst sable son count peep delivered thrust discontent glorious gav land presence divide children straying bonds pitying correspondence transferred gay minded spur summers lust self-example forward society issueless crowned losing honest gaol bier askance wealth torment wand unto weeds blazon mend remover wronk deserve slow poorly parallels 50 contain beggar breach wakened mow wound bird forbid abuse wights prefiguring glory writ crowned charged humour unlettered despised tattered being inconstant mad limits thereby debarred foe swearing gazing meetness speaking alone often measured nay suppressed pleasures divide hooks shorn ensconce quality sinful doctor-like admit raven chance belong 151 engraft records clock master alteration clock cancelled doctor-like belong faster imaginary speak siege lead politic forbear onset benefit lily ry speaking travels raven told backward 40 follow vanishing blanks crooked beauties table cunning 110 meant woman mountain pain sum remove d bosom wiry rich-proud stirred all-eating sable unseen crave languished keen 17 constant antiquity perhaps violet alteration remote lease knew clock purge benefit infection bold dust tyrant something defaced well-seeing stained limits fixed sorry 27 crystal singleness bier amen 87 gone robbed vacant chips erst follows songs 21 82 pursuing confess 148 thorns dote true-telling naming dispense tenth scandal boldness adieu deserts thousand breath burning gathered engrafted esteem accessary swear carved violet grave forbear worthier prouder rising wail within thralled describe fame father ruining object usurer perhaps wrought burn wealth scythe spends wilful eat level sullen 78 pupil 41 record careful faculty cure tribes master pleased only hard rearward question sullen frost wounded 80 dry succession depend thief teeming graves corrupting move speechless millions affections naming ladies owners unhappily father idle habitation celestial fits spent indirectly strangle pencil vial vision injuries tyrants tallies grossly lion showers perish thrivers supposed vision resemble teach grieved amends seldom book region legions acquaintance insults objects warning lion n votary flatterer vice trimmed meant conceit indirectly long-lived angry disdain palate line hunted ages ink accumulate ignorance goodness 31 hearing fashion suited accident fairest whether sufficed abysm griefs gaol able defeated well-contented grieved windy canopy cures draw blessings pomp 145 saw contracted expressing 117 dreading grieve 59 wond benefit spites ransoms peep proudest untutored enforced middle wished amiss bequest believed forgot reeks 69 watery 125 unswayed limbs sovereign fears passed 93 flattery debtor perspective death-bed disease striving maturity gored wont clock paper indirectly writers bier charge guilty torment suppose born conceit clear liquid sole west afar sufferance consecrate choose covetous west whereof discourse goes mother simplicity coward woo jade divining wary dearer spread youth temptation married works shook farewell charter public nerves tie self-love enclose lengths distillation frailties four windy ransom honour tanned time-bettering purge been father wail succession medicine welfare correspondence 113 81 random cheek countenance manner tenure vengeful dispatch cured bred disgraced dissuade tenure distance forgetful blood follows reasons hadst unbless determination weary visage shown figures mistake tickled unthrifty smiling perfumed effect 140 whit strangle lived fed er-cloying comes delves tripping summon pine moon betwixt tempests sharp violet to-morrow rack wits missed delivers 115 woman whole trespass thither care stands asked travail 73 cupid 68 figured grave sees besmeared travels bestow jaws painting little swart-complexioned verse balmy trust bones self-love thrusts riper stone cease seemed disabled little er forsaken wait flatterer wrackful waiting eager march succession line wisdom rehearse benefit woeful turned brief dove untainted asked bier earth report whit expressing scythe misprision region wailing relief thrall tenth deepest cheek brav progress thrusts herself outworn slight proud broke quiet fury slanderers distillation anticipate drop equal brave rent youthful salutation forgetfulness infant trust trouble age uncertain sees wilfully strangle perforce space bath control forlorn yea weight incertainties couldst slave necessary gave proposed large remain aye soon fist 45 points sold warm adonis leisure cheater cost anticipate judgement suffers lambs accents violet leisure action receipt excellence beast seest neck 50 seconds 130 prophecies glazed eloquence filching true unstained meadows being applying uprear room placed rich orient present 37 frailer drooping dyer verses teachest coming get think swerving beshrew whole conceit affections slight external showers stars get gait watery churl tired finds plods flower costs crowned grecian melancholy bastard shape maiden truly pattern house wet sick renewed speechless ow frowns needs tied meadows becoming trifle profit misuse winged calls peep poet drowns grave food nearly fee strong discased bad care admired compeers steep-up receiving suffer 117 stern indeed violet soul peep forgetful 107 store figures different cherubins monsters creation poet missed bounteous poet sound stole used provide room visage king march critic wand faults polished pain conspire book sweet-seasoned gilded reap nightly self-loving feeling wrought conceit 125 plea damasked whoever send forlorn 117 outcast autumn skill astonished meditation follows earth preposterously tyranny tillage sorrows amends root pleased graven tombs news bid short 49 ensconce 119 user ugly meant balmy character guest bereft dark much boast youngly mouthed thrivers laughed trouble thought sea eloquence issueless anger double-vantage affections bore uprear precious receive stormy razed outbraves churl jade rights dispraise evil addition finds accident mended user bier extant speechless bar bath exceeds deceased simply redeem maiden four critic stormy dateless favour insults poet singleness willing saint object sword adding gainer sins spirits tripping imitated youthful erred richly dreaming three-fold accidents prophecies bred commend worst fell told to-morrow scope lily withal tender wound fierce purple heavily 79 ll breach beck compass puts violet breasts esteemed fate low lame statues bier kill bliss gild thyself effectually pain neglected spite region day wasted sense presence violet pictured disperse amazeth survey hearts bett fiery altered foes self-loving mountain thriftless welfare minds vengeful thousand wrackful fresher benefit style nightly brand term spite wake lips jealousy nature sufferance always bower blind offender spending provide maketh importune meadows life points sum true restored 127 bower arising 115 horses prone hell saying smiling correction summon wilful-slow onwards inhabit space wiry seals meadows while visage growing closure leave unto vengeful straying sue master fulfil enjoy bounteous 74 vow creating goodly hied oblivion proclaims overturn steep-up sin stopped imprint powerful sickle consider asked goes dwellers unions slight conquest cures remembrance disgraced rite youngly pleasure march clear admiring goddess subsist scythe memory folly uneared physicians equal dig 48 unjust onward needy affords stormy torment ages bier divining bind sake took bier happies enjoyer mountain sway sake desert concealed respect distillation dun felt poets 79 hateth perceive misplaced spheres edge swift finding angel zealous rocks followed 93 part amis put afterwards cunning overturn excusing subdued leases five disgraced quiet doom despise music house sake 151 liberty shore seat 68 office separable effect famine taught pretty arise bare subtleties heed said unseeing kept betray richly philomel present task coming thrust crowned ambush thousand thinking shade hang stick gaudy powerful bound swear pride 121 sufficed griefs 134 vulgar deceased knife endless overthrow shop charter take hooks tell strained passed sullen anew posting self-example conceit pitying bootless nothing over-goes tears bond orient crowning prayers stirred plain precious jealous refined wound hopes cease print awake entertain wrack refuse blots middle excusing boy sounds bold forged hearts burning willing immured progress sire seeing suffer acceptable wilful beauties endowed essays d slanderers twixt brief delighted qualify monument lion trouble 81 featured penury resty gored drooping huswife take bold accents sable ye cut worthless steals sing furrows care chance niggarding devil all-eating fate falsehood\n"
     ]
    }
   ],
   "source": [
    "print(' '.join(seed_str + generated_text))"
   ]
  },
  {
   "cell_type": "code",
   "execution_count": null,
   "metadata": {},
   "outputs": [],
   "source": []
  }
 ],
 "metadata": {
  "anaconda-cloud": {},
  "kernelspec": {
   "display_name": "Python [conda env:py36] *",
   "language": "python",
   "name": "conda-env-py36-py"
  },
  "language_info": {
   "codemirror_mode": {
    "name": "ipython",
    "version": 3
   },
   "file_extension": ".py",
   "mimetype": "text/x-python",
   "name": "python",
   "nbconvert_exporter": "python",
   "pygments_lexer": "ipython3",
   "version": "3.6.9"
  }
 },
 "nbformat": 4,
 "nbformat_minor": 2
}
